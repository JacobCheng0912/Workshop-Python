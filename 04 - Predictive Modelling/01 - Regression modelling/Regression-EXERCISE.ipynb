{
 "cells": [
  {
   "cell_type": "markdown",
   "metadata": {
    "colab_type": "text",
    "id": "T9H4rAOJmyXO"
   },
   "source": [
    "---\n",
    "# Crash Course Python for Data Science — Predictive Modelling\n",
    "---\n",
    "# 01 - Regression modelling\n",
    "---\n",
    "## STOP! BEFORE GOING ANY FURTHER...  \n",
    "\n",
    "Remember, this exercises are open book, open neighbour, open everything! Try to do them on your own before looking at the solution samples.\n",
    "\n",
    "---\n",
    "<br>\n",
    "\n",
    "### 1. Experiment with Nearest Neighbor parameter\n",
    "\n",
    "Using the following code to load the same 10 training and test data points from the workshop."
   ]
  },
  {
   "cell_type": "code",
   "execution_count": 54,
   "metadata": {
    "colab": {},
    "colab_type": "code",
    "id": "CKsxHHzmmyXP"
   },
   "outputs": [],
   "source": [
    "# Run this first!\n",
    "\n",
    "%matplotlib inline\n",
    "import matplotlib.pyplot as plt\n",
    "import pandas as pd\n",
    "from sklearn.neighbors import KNeighborsRegressor\n",
    "from sklearn.metrics import mean_absolute_error\n",
    "\n",
    "# plot tunning\n",
    "plt.style.use(style='ggplot')\n",
    "plt.rcParams['figure.figsize'] = (10, 6)\n",
    "\n",
    "columns = ['carat', 'cut', 'price']\n",
    "\n",
    "features = ['carat', 'cut']\n",
    "target = 'price'\n",
    "\n",
    "train = pd.DataFrame(columns=columns, \n",
    "        data=[[0.3, 'Ideal', 422],\n",
    "        [0.31, 'Ideal', 489],\n",
    "        [0.42, 'Premium', 737],\n",
    "        [0.5, 'Ideal', 1415],\n",
    "        [0.51, 'Premium', 1177],\n",
    "        [0.7, 'Fair', 1865],\n",
    "        [0.73, 'Fair', 2351],\n",
    "        [1.01, 'Good', 3768],\n",
    "        [1.18, 'Very Good', 3965],\n",
    "        [1.18, 'Ideal', 4838]])\n",
    "\n",
    "test  = pd.DataFrame(columns=columns, \n",
    "        data=[[0.3, 'Ideal', 432],\n",
    "        [0.34, 'Ideal', 687],\n",
    "        [0.37, 'Premium', 1124],\n",
    "        [0.4, 'Good', 720],\n",
    "        [0.51, 'Ideal', 1397],\n",
    "        [0.51, 'Very Good', 1284],\n",
    "        [0.59, 'Ideal', 1437],\n",
    "        [0.7, 'Ideal', 3419],\n",
    "        [0.9, 'Premium', 3484],\n",
    "        [0.9, 'Fair', 2964]])\n",
    "\n",
    "cut_ranks = {'Fair': 1, 'Good': 2, 'Very Good': 3, 'Premium': 4, 'Ideal': 5}\n",
    "train.cut = train.cut.map(cut_ranks)\n",
    "test.cut = test.cut.map(cut_ranks)"
   ]
  },
  {
   "cell_type": "markdown",
   "metadata": {
    "colab_type": "text",
    "id": "PDQvM-OieVNd"
   },
   "source": [
    "Then, train a `KNeighborsRegressor` model with `n_neighbors=1`.\n",
    "\n",
    "Use both `carat` and `cut` features.\n",
    "\n",
    "Calculate the mean absolute error on the training data and on the test data."
   ]
  },
  {
   "cell_type": "code",
   "execution_count": 55,
   "metadata": {
    "colab": {},
    "colab_type": "code",
    "id": "_3trzLnhdc6b"
   },
   "outputs": [
    {
     "name": "stdout",
     "output_type": "stream",
     "text": [
      "Train MAE: 0.0\n",
      "Test MAE: 1128.8\n"
     ]
    }
   ],
   "source": [
    "# Step 1: Create a KNN model\n",
    "knn = KNeighborsRegressor(n_neighbors=1)\n",
    "\n",
    "# Step 2: Fit the model\n",
    "knn.fit(train[features], train[target])\n",
    "\n",
    "# Step 3: Predict on train and test data\n",
    "train_predictions = knn.predict(train[features])\n",
    "test_predictions = knn.predict(test[features])\n",
    "\n",
    "# Step 4: Evaluate the model\n",
    "train_mae = mean_absolute_error(train[target], train_predictions)\n",
    "test_mae = mean_absolute_error(test[target], test_predictions)\n",
    "\n",
    "print(f'Train MAE: {train_mae}')\n",
    "print(f'Test MAE: {test_mae}')\n"
   ]
  },
  {
   "cell_type": "markdown",
   "metadata": {
    "colab_type": "text",
    "id": "NQQveVK9myXV"
   },
   "source": [
    "How does the train error and test error compare to the previous `KNeighborsRegressor` model from the lesson? (The previous model used `n_neighbors=2` and only the `carat` feature.)\n",
    "\n",
    "# Compare with previous results and evaluate overfitting/underfitting\n",
    "print(\"The train error is significantly lower than the test error, which suggests the model is overfitting.\")\n",
    "\n",
    "Is this new model overfitting or underfitting? Why do you think this is happening here? \n",
    "\n"
   ]
  },
  {
   "cell_type": "markdown",
   "metadata": {
    "colab_type": "text",
    "id": "zQJDW1-QmyXW"
   },
   "source": [
    "### 2. More data, two features, linear regression\n",
    "\n",
    "Use the following code to load data for diamonds under $5,000, and split the data into train and test sets. The training data has almost 30,000 rows, and the test data has almost 10,000 rows."
   ]
  },
  {
   "cell_type": "code",
   "execution_count": 56,
   "metadata": {
    "colab": {},
    "colab_type": "code",
    "id": "IDXEn8lvmyXW"
   },
   "outputs": [
    {
     "data": {
      "text/plain": [
       "((29409, 10), (9804, 10))"
      ]
     },
     "execution_count": 56,
     "metadata": {},
     "output_type": "execute_result"
    }
   ],
   "source": [
    "import seaborn as sns\n",
    "from sklearn.linear_model import LinearRegression\n",
    "from sklearn.model_selection import train_test_split\n",
    "\n",
    "df = sns.load_dataset('diamonds')\n",
    "df = df[df.price < 5000]\n",
    "train, test = train_test_split(df.copy(), random_state=0)\n",
    "train.shape, test.shape"
   ]
  },
  {
   "cell_type": "code",
   "execution_count": 57,
   "metadata": {
    "colab": {},
    "colab_type": "code",
    "id": "vyStJOe0XY-n"
   },
   "outputs": [
    {
     "data": {
      "text/html": [
       "<div>\n",
       "<style scoped>\n",
       "    .dataframe tbody tr th:only-of-type {\n",
       "        vertical-align: middle;\n",
       "    }\n",
       "\n",
       "    .dataframe tbody tr th {\n",
       "        vertical-align: top;\n",
       "    }\n",
       "\n",
       "    .dataframe thead th {\n",
       "        text-align: right;\n",
       "    }\n",
       "</style>\n",
       "<table border=\"1\" class=\"dataframe\">\n",
       "  <thead>\n",
       "    <tr style=\"text-align: right;\">\n",
       "      <th></th>\n",
       "      <th>carat</th>\n",
       "      <th>cut</th>\n",
       "      <th>color</th>\n",
       "      <th>clarity</th>\n",
       "      <th>depth</th>\n",
       "      <th>table</th>\n",
       "      <th>price</th>\n",
       "      <th>x</th>\n",
       "      <th>y</th>\n",
       "      <th>z</th>\n",
       "    </tr>\n",
       "  </thead>\n",
       "  <tbody>\n",
       "    <tr>\n",
       "      <th>0</th>\n",
       "      <td>0.23</td>\n",
       "      <td>Ideal</td>\n",
       "      <td>E</td>\n",
       "      <td>SI2</td>\n",
       "      <td>61.5</td>\n",
       "      <td>55.0</td>\n",
       "      <td>326</td>\n",
       "      <td>3.95</td>\n",
       "      <td>3.98</td>\n",
       "      <td>2.43</td>\n",
       "    </tr>\n",
       "    <tr>\n",
       "      <th>1</th>\n",
       "      <td>0.21</td>\n",
       "      <td>Premium</td>\n",
       "      <td>E</td>\n",
       "      <td>SI1</td>\n",
       "      <td>59.8</td>\n",
       "      <td>61.0</td>\n",
       "      <td>326</td>\n",
       "      <td>3.89</td>\n",
       "      <td>3.84</td>\n",
       "      <td>2.31</td>\n",
       "    </tr>\n",
       "    <tr>\n",
       "      <th>2</th>\n",
       "      <td>0.23</td>\n",
       "      <td>Good</td>\n",
       "      <td>E</td>\n",
       "      <td>VS1</td>\n",
       "      <td>56.9</td>\n",
       "      <td>65.0</td>\n",
       "      <td>327</td>\n",
       "      <td>4.05</td>\n",
       "      <td>4.07</td>\n",
       "      <td>2.31</td>\n",
       "    </tr>\n",
       "    <tr>\n",
       "      <th>3</th>\n",
       "      <td>0.29</td>\n",
       "      <td>Premium</td>\n",
       "      <td>I</td>\n",
       "      <td>VS2</td>\n",
       "      <td>62.4</td>\n",
       "      <td>58.0</td>\n",
       "      <td>334</td>\n",
       "      <td>4.20</td>\n",
       "      <td>4.23</td>\n",
       "      <td>2.63</td>\n",
       "    </tr>\n",
       "    <tr>\n",
       "      <th>4</th>\n",
       "      <td>0.31</td>\n",
       "      <td>Good</td>\n",
       "      <td>J</td>\n",
       "      <td>SI2</td>\n",
       "      <td>63.3</td>\n",
       "      <td>58.0</td>\n",
       "      <td>335</td>\n",
       "      <td>4.34</td>\n",
       "      <td>4.35</td>\n",
       "      <td>2.75</td>\n",
       "    </tr>\n",
       "  </tbody>\n",
       "</table>\n",
       "</div>"
      ],
      "text/plain": [
       "   carat      cut color clarity  depth  table  price     x     y     z\n",
       "0   0.23    Ideal     E     SI2   61.5   55.0    326  3.95  3.98  2.43\n",
       "1   0.21  Premium     E     SI1   59.8   61.0    326  3.89  3.84  2.31\n",
       "2   0.23     Good     E     VS1   56.9   65.0    327  4.05  4.07  2.31\n",
       "3   0.29  Premium     I     VS2   62.4   58.0    334  4.20  4.23  2.63\n",
       "4   0.31     Good     J     SI2   63.3   58.0    335  4.34  4.35  2.75"
      ]
     },
     "execution_count": 57,
     "metadata": {},
     "output_type": "execute_result"
    }
   ],
   "source": [
    "# Run this to check the dataset loaded and looks ok\n",
    "df.head()"
   ]
  },
  {
   "cell_type": "code",
   "execution_count": 58,
   "metadata": {
    "colab": {},
    "colab_type": "code",
    "id": "NWluyktRbHNr"
   },
   "outputs": [],
   "source": [
    "# Run this to encode the ordinal features as numbers\n",
    "cut_ranks = {'Fair': 1, 'Good': 2, 'Very Good': 3, 'Premium': 4, 'Ideal': 5}\n",
    "train.cut = train.cut.map(cut_ranks)\n",
    "target = test.cut = test.cut.map(cut_ranks)"
   ]
  },
  {
   "cell_type": "markdown",
   "metadata": {
    "colab_type": "text",
    "id": "1VZ7PH6nmyXZ"
   },
   "source": [
    "Then, train a Linear Regression model with the `carat` and `cut` features. Calculate the mean absolute error on the training data and on the test data."
   ]
  },
  {
   "cell_type": "markdown",
   "metadata": {
    "colab_type": "text",
    "id": "4jLEcukVmyXb"
   },
   "source": [
    "Use this model to predict the price of a half carat diamond with \"very good\" cut"
   ]
  },
  {
   "cell_type": "code",
   "execution_count": 59,
   "metadata": {
    "colab": {},
    "colab_type": "code",
    "id": "tzNj9J3lgfBH"
   },
   "outputs": [
    {
     "name": "stdout",
     "output_type": "stream",
     "text": [
      "cut        29409\n",
      "color          0\n",
      "clarity        0\n",
      "dtype: int64\n",
      "cut        9804\n",
      "color         0\n",
      "clarity       0\n",
      "dtype: int64\n"
     ]
    }
   ],
   "source": [
    "# Encode ordinal features\n",
    "cut_ranks = {'Fair': 1, 'Good': 2, 'Very Good': 3, 'Premium': 4, 'Ideal': 5}\n",
    "color_ranks = {'J': 1, 'I': 2, 'H': 3, 'G': 4, 'F': 5, 'E': 6, 'D': 7}\n",
    "clarity_ranks = {'I1': 1, 'SI2': 2, 'SI1': 3, 'VS2': 4, 'VS1': 5, 'VVS2': 6, 'VVS1': 7, 'IF': 8}\n",
    "\n",
    "# Apply mapping to train and test datasets\n",
    "train['cut'] = train['cut'].map(cut_ranks)\n",
    "train['color'] = train['color'].map(color_ranks)\n",
    "train['clarity'] = train['clarity'].map(clarity_ranks)\n",
    "\n",
    "test['cut'] = test['cut'].map(cut_ranks)\n",
    "test['color'] = test['color'].map(color_ranks)\n",
    "test['clarity'] = test['clarity'].map(clarity_ranks)\n",
    "\n",
    "# Check for missing values after mapping\n",
    "print(train[['cut', 'color', 'clarity']].isnull().sum())\n",
    "print(test[['cut', 'color', 'clarity']].isnull().sum())\n"
   ]
  },
  {
   "cell_type": "markdown",
   "metadata": {
    "colab_type": "text",
    "id": "eB-7wzRjmyXe"
   },
   "source": [
    "### 3. More data, more features, any model"
   ]
  },
  {
   "cell_type": "markdown",
   "metadata": {
    "colab_type": "text",
    "id": "OCauk9z2myXf"
   },
   "source": [
    "You choose what features and model type to use! Try to get a better mean absolute error on the test set than your model from the last question."
   ]
  },
  {
   "cell_type": "markdown",
   "metadata": {
    "colab_type": "text",
    "id": "nWVpkz8dmyXf"
   },
   "source": [
    "Refer to [this documentation](https://ggplot2.tidyverse.org/reference/diamonds.html) for more explanation of the features.\n",
    "\n",
    "Besides `cut`, there are two more ordinal features, which you'd need to encode as numbers if you want to use in your model: `color` and `clarity`."
   ]
  },
  {
   "cell_type": "code",
   "execution_count": 62,
   "metadata": {
    "colab": {},
    "colab_type": "code",
    "id": "54K95PyEmyXf"
   },
   "outputs": [
    {
     "name": "stdout",
     "output_type": "stream",
     "text": [
      "Before encoding:\n",
      "       cut color clarity\n",
      "0    Ideal     E     SI2\n",
      "1  Premium     E     SI1\n",
      "2     Good     E     VS1\n",
      "3  Premium     I     VS2\n",
      "4     Good     J     SI2\n",
      "After encoding:\n",
      "       cut color clarity\n",
      "43601  NaN     6       3\n",
      "52706  NaN     3       4\n",
      "1986   NaN     4       3\n",
      "48617  NaN     4       2\n",
      "10947  NaN     4       4\n"
     ]
    },
    {
     "data": {
      "text/html": [
       "<div>\n",
       "<style scoped>\n",
       "    .dataframe tbody tr th:only-of-type {\n",
       "        vertical-align: middle;\n",
       "    }\n",
       "\n",
       "    .dataframe tbody tr th {\n",
       "        vertical-align: top;\n",
       "    }\n",
       "\n",
       "    .dataframe thead th {\n",
       "        text-align: right;\n",
       "    }\n",
       "</style>\n",
       "<table border=\"1\" class=\"dataframe\">\n",
       "  <thead>\n",
       "    <tr style=\"text-align: right;\">\n",
       "      <th></th>\n",
       "      <th>cut</th>\n",
       "    </tr>\n",
       "  </thead>\n",
       "  <tbody>\n",
       "    <tr>\n",
       "      <th>count</th>\n",
       "      <td>0.0</td>\n",
       "    </tr>\n",
       "    <tr>\n",
       "      <th>mean</th>\n",
       "      <td>NaN</td>\n",
       "    </tr>\n",
       "    <tr>\n",
       "      <th>std</th>\n",
       "      <td>NaN</td>\n",
       "    </tr>\n",
       "    <tr>\n",
       "      <th>min</th>\n",
       "      <td>NaN</td>\n",
       "    </tr>\n",
       "    <tr>\n",
       "      <th>25%</th>\n",
       "      <td>NaN</td>\n",
       "    </tr>\n",
       "    <tr>\n",
       "      <th>50%</th>\n",
       "      <td>NaN</td>\n",
       "    </tr>\n",
       "    <tr>\n",
       "      <th>75%</th>\n",
       "      <td>NaN</td>\n",
       "    </tr>\n",
       "    <tr>\n",
       "      <th>max</th>\n",
       "      <td>NaN</td>\n",
       "    </tr>\n",
       "  </tbody>\n",
       "</table>\n",
       "</div>"
      ],
      "text/plain": [
       "       cut\n",
       "count  0.0\n",
       "mean   NaN\n",
       "std    NaN\n",
       "min    NaN\n",
       "25%    NaN\n",
       "50%    NaN\n",
       "75%    NaN\n",
       "max    NaN"
      ]
     },
     "execution_count": 62,
     "metadata": {},
     "output_type": "execute_result"
    }
   ],
   "source": [
    "# Run this to see the description of color and clarity features\n",
    "train[['cut', 'color', 'clarity']].describe()"
   ]
  },
  {
   "cell_type": "markdown",
   "metadata": {
    "colab_type": "text",
    "id": "arYOlKNNg93Q"
   },
   "source": [
    "### Below I've written an example solution using K'Nearest, Linear Regression and a regression algorithm we didn't cover in the crash course, known as XGBoost. I strongly encourage you to come up with **your own** solution before looking at mine!"
   ]
  },
  {
   "cell_type": "code",
   "execution_count": 61,
   "metadata": {
    "colab": {},
    "colab_type": "code",
    "id": "aM2ksd9Lh5Tb"
   },
   "outputs": [
    {
     "ename": "ModuleNotFoundError",
     "evalue": "No module named 'xgboost'",
     "output_type": "error",
     "traceback": [
      "\u001b[1;31m---------------------------------------------------------------------------\u001b[0m",
      "\u001b[1;31mModuleNotFoundError\u001b[0m                       Traceback (most recent call last)",
      "Cell \u001b[1;32mIn[61], line 4\u001b[0m\n\u001b[0;32m      1\u001b[0m \u001b[38;5;66;03m# Add as many extra cells as you need. \u001b[39;00m\n\u001b[1;32m----> 4\u001b[0m \u001b[38;5;28;01mfrom\u001b[39;00m\u001b[38;5;250m \u001b[39m\u001b[38;5;21;01mxgboost\u001b[39;00m\u001b[38;5;250m \u001b[39m\u001b[38;5;28;01mimport\u001b[39;00m XGBRegressor\n\u001b[0;32m      6\u001b[0m \u001b[38;5;66;03m# Step 1: Create an XGBoost regressor\u001b[39;00m\n\u001b[0;32m      7\u001b[0m xgb \u001b[38;5;241m=\u001b[39m XGBRegressor()\n",
      "\u001b[1;31mModuleNotFoundError\u001b[0m: No module named 'xgboost'"
     ]
    }
   ],
   "source": [
    "# Add as many extra cells as you need. \n",
    "\n",
    "\n",
    "from xgboost import XGBRegressor\n",
    "\n",
    "# Step 1: Create an XGBoost regressor\n",
    "xgb = XGBRegressor()\n",
    "\n",
    "# Step 2: Train the model\n",
    "xgb.fit(train[['carat', 'cut', 'color', 'clarity']], train['price'])\n",
    "\n",
    "# Step 3: Predict on train and test data\n",
    "train_predictions = xgb.predict(train[['carat', 'cut', 'color', 'clarity']])\n",
    "test_predictions = xgb.predict(test[['carat', 'cut', 'color', 'clarity']])\n",
    "\n",
    "# Step 4: Evaluate the model\n",
    "train_mae = mean_absolute_error(train['price'], train_predictions)\n",
    "test_mae = mean_absolute_error(test['price'], test_predictions)\n",
    "\n",
    "print(f'Train MAE: {train_mae}')\n",
    "print(f'Test MAE: {test_mae}')\n",
    "\n",
    "\n"
   ]
  }
 ],
 "metadata": {
  "colab": {
   "collapsed_sections": [],
   "name": "Regression-EXERCISE.ipynb",
   "provenance": [
    {
     "file_id": "1OWWg2skvgXyVSJBva9TUj7SPvR19Mdbl",
     "timestamp": 1574277905099
    }
   ]
  },
  "kernelspec": {
   "display_name": "Python 3",
   "language": "python",
   "name": "python3"
  },
  "language_info": {
   "codemirror_mode": {
    "name": "ipython",
    "version": 3
   },
   "file_extension": ".py",
   "mimetype": "text/x-python",
   "name": "python",
   "nbconvert_exporter": "python",
   "pygments_lexer": "ipython3",
   "version": "3.11.9"
  }
 },
 "nbformat": 4,
 "nbformat_minor": 0
}
