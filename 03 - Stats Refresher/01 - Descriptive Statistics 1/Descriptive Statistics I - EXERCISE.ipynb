{
 "cells": [
  {
   "cell_type": "markdown",
   "metadata": {
    "colab_type": "text",
    "id": "ZvNsvUNNlZbi"
   },
   "source": [
    "---\n",
    "# Crash Course Python for Data Science - Intro to Statistics\n",
    "---\n",
    "# 01 - Descriptive Statistics I\n",
    "---\n",
    "\n"
   ]
  },
  {
   "cell_type": "markdown",
   "metadata": {
    "colab_type": "text",
    "id": "y8HUQb0OOztX"
   },
   "source": [
    "## STOP! BEFORE GOING ANY FURTHER...  \n",
    "\n",
    "Remember, this exercises are open book, open neighbour, open everything! Try to do them on your own before looking at the solution samples.\n"
   ]
  },
  {
   "cell_type": "markdown",
   "metadata": {
    "colab_type": "text",
    "id": "xMq6Of2Gt24o"
   },
   "source": [
    "### Import Numpy, pandas, and matplotlib"
   ]
  },
  {
   "cell_type": "code",
   "execution_count": 1,
   "metadata": {
    "colab": {},
    "colab_type": "code",
    "id": "h3r0IvHVuGJb"
   },
   "outputs": [
    {
     "name": "stdout",
     "output_type": "stream",
     "text": [
      "Libraries imported!\n"
     ]
    }
   ],
   "source": [
    "import numpy as np, pandas as pd, matplotlib.pyplot as plt \n",
    "\n",
    "plt.style.use(style='ggplot')\n",
    "plt.rcParams['figure.figsize'] = (10, 6)\n",
    "\n",
    "print('Libraries imported!')"
   ]
  },
  {
   "cell_type": "markdown",
   "metadata": {
    "colab_type": "text",
    "id": "DvYie7qokbDH"
   },
   "source": [
    "### Import the data in the CSV file\n",
    "Today you'll be working with the tips dataset from the lecture. You can find the data [here](https://raw.githubusercontent.com/axrd/datasets/master/tipdata.csv). Remember we do the `index_col=0` to avoid importing an extra index column! "
   ]
  },
  {
   "cell_type": "code",
   "execution_count": 2,
   "metadata": {
    "colab": {},
    "colab_type": "code",
    "id": "UNJo_50VktRs"
   },
   "outputs": [],
   "source": [
    "# Run this cell to import the data\n",
    "\n",
    "df = pd.read_csv('https://raw.githubusercontent.com/axrd/datasets/master/tipdata.csv', index_col=0)"
   ]
  },
  {
   "cell_type": "markdown",
   "metadata": {
    "colab_type": "text",
    "id": "CYy4Zp5pk7tS"
   },
   "source": [
    "### Print out the first 10 rows"
   ]
  },
  {
   "cell_type": "code",
   "execution_count": 3,
   "metadata": {
    "colab": {},
    "colab_type": "code",
    "id": "QeYGNOMNmwIh"
   },
   "outputs": [
    {
     "name": "stdout",
     "output_type": "stream",
     "text": [
      "   total_bill   tip     sex smoker  day    time  size\n",
      "0       16.99  1.01  Female     No  Sun  Dinner     2\n",
      "1       10.34  1.66    Male     No  Sun  Dinner     3\n",
      "2       21.01  3.50    Male     No  Sun  Dinner     3\n",
      "3       23.68  3.31    Male     No  Sun  Dinner     2\n",
      "4       24.59  3.61  Female     No  Sun  Dinner     4\n",
      "5       25.29  4.71    Male     No  Sun  Dinner     4\n",
      "6        8.77  2.00    Male     No  Sun  Dinner     2\n",
      "7       26.88  3.12    Male     No  Sun  Dinner     4\n",
      "8       15.04  1.96    Male     No  Sun  Dinner     2\n",
      "9       14.78  3.23    Male     No  Sun  Dinner     2\n"
     ]
    }
   ],
   "source": [
    "# Display the first 10 rows of the dataset\n",
    "print(df.head(10))"
   ]
  },
  {
   "cell_type": "markdown",
   "metadata": {
    "colab_type": "text",
    "id": "125CV0jpQ5vT"
   },
   "source": [
    "### Print out the last 10 rows"
   ]
  },
  {
   "cell_type": "code",
   "execution_count": 4,
   "metadata": {
    "colab": {},
    "colab_type": "code",
    "id": "PaNC-qGtm1il"
   },
   "outputs": [
    {
     "name": "stdout",
     "output_type": "stream",
     "text": [
      "     total_bill   tip     sex smoker   day    time  size\n",
      "234       15.53  3.00    Male    Yes   Sat  Dinner     2\n",
      "235       10.07  1.25    Male     No   Sat  Dinner     2\n",
      "236       12.60  1.00    Male    Yes   Sat  Dinner     2\n",
      "237       32.83  1.17    Male    Yes   Sat  Dinner     2\n",
      "238       35.83  4.67  Female     No   Sat  Dinner     3\n",
      "239       29.03  5.92    Male     No   Sat  Dinner     3\n",
      "240       27.18  2.00  Female    Yes   Sat  Dinner     2\n",
      "241       22.67  2.00    Male    Yes   Sat  Dinner     2\n",
      "242       17.82  1.75    Male     No   Sat  Dinner     2\n",
      "243       18.78  3.00  Female     No  Thur  Dinner     2\n"
     ]
    }
   ],
   "source": [
    "# Display the last 10 rows of the dataset\n",
    "print(df.tail(10))"
   ]
  },
  {
   "cell_type": "markdown",
   "metadata": {
    "colab_type": "text",
    "id": "CfUYIGiuQ-o0"
   },
   "source": [
    "### What is the shape of the DataFrame?"
   ]
  },
  {
   "cell_type": "code",
   "execution_count": 5,
   "metadata": {
    "colab": {},
    "colab_type": "code",
    "id": "AsUUkDbem5L-"
   },
   "outputs": [
    {
     "name": "stdout",
     "output_type": "stream",
     "text": [
      "(244, 7)\n"
     ]
    }
   ],
   "source": [
    "# Print the shape of the DataFrame (number of rows and columns)\n",
    "print(df.shape)"
   ]
  },
  {
   "cell_type": "markdown",
   "metadata": {
    "colab_type": "text",
    "id": "7ecnTkAIQ_MW"
   },
   "source": [
    "### What is the data type of each column/feature?"
   ]
  },
  {
   "cell_type": "code",
   "execution_count": 6,
   "metadata": {
    "colab": {},
    "colab_type": "code",
    "id": "UrJvzW0xm-Ll"
   },
   "outputs": [
    {
     "name": "stdout",
     "output_type": "stream",
     "text": [
      "total_bill    float64\n",
      "tip           float64\n",
      "sex            object\n",
      "smoker         object\n",
      "day            object\n",
      "time           object\n",
      "size            int64\n",
      "dtype: object\n"
     ]
    }
   ],
   "source": [
    "# Display the data types of each column\n",
    "print(df.dtypes)"
   ]
  },
  {
   "cell_type": "markdown",
   "metadata": {
    "colab_type": "text",
    "id": "zSi247Ll_eDr"
   },
   "source": [
    "### Are there any missing values?"
   ]
  },
  {
   "cell_type": "code",
   "execution_count": 7,
   "metadata": {
    "colab": {},
    "colab_type": "code",
    "id": "v0-NLvmZnCUY"
   },
   "outputs": [
    {
     "name": "stdout",
     "output_type": "stream",
     "text": [
      "total_bill    0\n",
      "tip           0\n",
      "sex           0\n",
      "smoker        0\n",
      "day           0\n",
      "time          0\n",
      "size          0\n",
      "dtype: int64\n"
     ]
    }
   ],
   "source": [
    "# Check for missing values in each column\n",
    "print(df.isnull().sum())"
   ]
  },
  {
   "cell_type": "markdown",
   "metadata": {
    "colab_type": "text",
    "id": "p52saiQGbeMq"
   },
   "source": [
    "### What is the average total bill? Calculate the mean, median, and mode. "
   ]
  },
  {
   "cell_type": "code",
   "execution_count": 8,
   "metadata": {
    "colab": {},
    "colab_type": "code",
    "id": "7vPjUVoYnJmD"
   },
   "outputs": [
    {
     "name": "stdout",
     "output_type": "stream",
     "text": [
      "Mean: 19.78594262295082, Median: 17.795, Mode: 13.42\n"
     ]
    }
   ],
   "source": [
    "# Calculate the mean of \"total_bill\"\n",
    "mean_total_bill = df['total_bill'].mean()\n",
    "\n",
    "# Calculate the median of \"total_bill\"\n",
    "median_total_bill = df['total_bill'].median()\n",
    "\n",
    "# Calculate the mode of \"total_bill\"\n",
    "mode_total_bill = df['total_bill'].mode()[0]\n",
    "\n",
    "print(f\"Mean: {mean_total_bill}, Median: {median_total_bill}, Mode: {mode_total_bill}\")"
   ]
  },
  {
   "cell_type": "markdown",
   "metadata": {
    "colab_type": "text",
    "id": "Y7arWL1sblgY"
   },
   "source": [
    "### Which of the three do you think best represents the data? Why?\n",
    "\n",
    "\n",
    "---\n",
    "\n"
   ]
  },
  {
   "cell_type": "markdown",
   "metadata": {
    "colab_type": "text",
    "id": "EoyHH2vaLtJv"
   },
   "source": [
    "Double click here to write your answer below.\n",
    "\n",
    "Answer: "
   ]
  },
  {
   "cell_type": "code",
   "execution_count": 9,
   "metadata": {
    "cellView": "form",
    "colab": {},
    "colab_type": "code",
    "id": "vuMwU-i-nOC8"
   },
   "outputs": [],
   "source": [
    "#@title Double click here for a sample solution\n",
    "\n",
    "# The median, because 50% of the data is above and 50% is below. \n",
    "# The mean is a bit smaller than the median. \n",
    "# If it was the same or a bit closer, I'd go for the mean.\n",
    "\n",
    "# The median is the best representative since it is less affected by outliers.\n"
   ]
  },
  {
   "cell_type": "markdown",
   "metadata": {
    "colab_type": "text",
    "id": "SNDL-Ms3L25T"
   },
   "source": [
    "### Visualize the distribution of tips. Describe it (skew, kurtosis, etc.)."
   ]
  },
  {
   "cell_type": "code",
   "execution_count": 10,
   "metadata": {
    "colab": {},
    "colab_type": "code",
    "id": "RhVCgYplnnFW"
   },
   "outputs": [
    {
     "data": {
      "image/png": "[encoded data removed]",
      "text/plain": [
       "<Figure size 1000x600 with 1 Axes>"
      ]
     },
     "metadata": {},
     "output_type": "display_data"
    },
    {
     "name": "stdout",
     "output_type": "stream",
     "text": [
      "Skewness: 1.4654510370979401, Kurtosis: 3.648375873352852\n"
     ]
    }
   ],
   "source": [
    "# Plot a histogram to visualize the distribution of tips\n",
    "df['tip'].hist(bins=30)\n",
    "plt.title('Distribution of Tips')\n",
    "plt.xlabel('Tip Amount')\n",
    "plt.ylabel('Frequency')\n",
    "plt.show()\n",
    "\n",
    "# Print skewness and kurtosis of the \"tip\" column\n",
    "print(f\"Skewness: {df['tip'].skew()}, Kurtosis: {df['tip'].kurt()}\")"
   ]
  },
  {
   "cell_type": "markdown",
   "metadata": {
    "colab_type": "text",
    "id": "ajdBc0TCL86s"
   },
   "source": [
    "### What is the range of tips? "
   ]
  },
  {
   "cell_type": "code",
   "execution_count": 11,
   "metadata": {
    "colab": {},
    "colab_type": "code",
    "id": "ziicf7ZmnsZg"
   },
   "outputs": [
    {
     "name": "stdout",
     "output_type": "stream",
     "text": [
      "Range of Tips: 9.0\n"
     ]
    }
   ],
   "source": [
    "# Calculate the range of tips\n",
    "tip_range = df['tip'].max() - df['tip'].min()\n",
    "print(f\"Range of Tips: {tip_range}\")"
   ]
  },
  {
   "cell_type": "markdown",
   "metadata": {
    "colab_type": "text",
    "id": "KnDjAUCMVHSU"
   },
   "source": []
  },
  {
   "cell_type": "markdown",
   "metadata": {
    "colab_type": "text",
    "id": "bDKWckVmMZwF"
   },
   "source": [
    "### Create a boxplot for tips. See the Intro to Pandas lesson for hints. "
   ]
  },
  {
   "cell_type": "code",
   "execution_count": 12,
   "metadata": {
    "colab": {},
    "colab_type": "code",
    "id": "085Fvs4Pn0IV"
   },
   "outputs": [
    {
     "data": {
      "image/png": "[encoded data removed]",
      "text/plain": [
       "<Figure size 1000x600 with 1 Axes>"
      ]
     },
     "metadata": {},
     "output_type": "display_data"
    }
   ],
   "source": [
    "# Create a boxplot for the \"tip\" column\n",
    "df['tip'].plot(kind='box', vert=False)\n",
    "plt.title('Boxplot of Tips')\n",
    "plt.show()\n"
   ]
  },
  {
   "cell_type": "markdown",
   "metadata": {
    "colab_type": "text",
    "id": "hwDMcaJqMaAV"
   },
   "source": [
    "### What was the most common day?"
   ]
  },
  {
   "cell_type": "code",
   "execution_count": 13,
   "metadata": {
    "colab": {},
    "colab_type": "code",
    "id": "t-8b6kW6n5fU"
   },
   "outputs": [
    {
     "name": "stdout",
     "output_type": "stream",
     "text": [
      "Most Common Day: Sat\n"
     ]
    }
   ],
   "source": [
    "# Find the most common day in the dataset\n",
    "most_common_day = df['day'].mode()[0]\n",
    "print(f\"Most Common Day: {most_common_day}\")"
   ]
  },
  {
   "cell_type": "markdown",
   "metadata": {
    "colab_type": "text",
    "id": "HjlVVANLMacl"
   },
   "source": [
    "### What was the most common gender?"
   ]
  },
  {
   "cell_type": "code",
   "execution_count": 14,
   "metadata": {
    "colab": {},
    "colab_type": "code",
    "id": "3gLlIp9hn911"
   },
   "outputs": [
    {
     "name": "stdout",
     "output_type": "stream",
     "text": [
      "Most Common Gender: Male\n"
     ]
    }
   ],
   "source": [
    "# Find the most common gender in the dataset\n",
    "most_common_gender = df['sex'].mode()[0]\n",
    "print(f\"Most Common Gender: {most_common_gender}\")"
   ]
  },
  {
   "cell_type": "markdown",
   "metadata": {
    "colab_type": "text",
    "id": "Ug-Gt5uh_K-I"
   },
   "source": [
    "### What is the standard deviation of \"tips\"?"
   ]
  },
  {
   "cell_type": "code",
   "execution_count": 15,
   "metadata": {
    "colab": {},
    "colab_type": "code",
    "id": "1tEBS44zoBO2"
   },
   "outputs": [
    {
     "name": "stdout",
     "output_type": "stream",
     "text": [
      "Standard Deviation of Tips: 1.3836381890011822\n"
     ]
    }
   ],
   "source": [
    "# Calculate the standard deviation of \"tip\"\n",
    "std_tip = df['tip'].std()\n",
    "print(f\"Standard Deviation of Tips: {std_tip}\")"
   ]
  },
  {
   "cell_type": "markdown",
   "metadata": {
    "colab_type": "text",
    "id": "UNOb5Wh3_REX"
   },
   "source": [
    "### What is the variance of total bill?"
   ]
  },
  {
   "cell_type": "code",
   "execution_count": 16,
   "metadata": {
    "colab": {},
    "colab_type": "code",
    "id": "WUCNtllhoFqC"
   },
   "outputs": [
    {
     "name": "stdout",
     "output_type": "stream",
     "text": [
      "Variance of Total Bill: 79.25293861397827\n"
     ]
    }
   ],
   "source": [
    "# Calculate the variance of \"total_bill\"\n",
    "var_total_bill = df['total_bill'].var()\n",
    "print(f\"Variance of Total Bill: {var_total_bill}\")"
   ]
  },
  {
   "cell_type": "markdown",
   "metadata": {
    "colab_type": "text",
    "id": "D3B3Z8GvcY4Q"
   },
   "source": [
    "### Amazing! Well done. \n",
    "\n",
    "\n",
    "---\n",
    "\n",
    "The question below is _optional_. Only tackle it after you've completed the rest of the assignment!"
   ]
  },
  {
   "cell_type": "markdown",
   "metadata": {
    "colab_type": "text",
    "id": "m69ItJKqb7bh"
   },
   "source": [
    "### STRETCH: Visualize all the numeric features and describe their distributions."
   ]
  },
  {
   "cell_type": "code",
   "execution_count": 17,
   "metadata": {
    "colab": {},
    "colab_type": "code",
    "id": "gEPGwNtUoQEN"
   },
   "outputs": [
    {
     "data": {
      "image/png": "[encoded data removed]",
      "text/plain": [
       "<Figure size 1000x600 with 1 Axes>"
      ]
     },
     "metadata": {},
     "output_type": "display_data"
    },
    {
     "name": "stdout",
     "output_type": "stream",
     "text": [
      "total_bill - Skewness: 1.1332130376158205, Kurtosis: 1.2184840156638854\n"
     ]
    },
    {
     "data": {
      "image/png": "[encoded data removed]",
      "text/plain": [
       "<Figure size 1000x600 with 1 Axes>"
      ]
     },
     "metadata": {},
     "output_type": "display_data"
    },
    {
     "name": "stdout",
     "output_type": "stream",
     "text": [
      "tip - Skewness: 1.4654510370979401, Kurtosis: 3.648375873352852\n"
     ]
    },
    {
     "data": {
      "image/png": "[encoded data removed]",
      "text/plain": [
       "<Figure size 1000x600 with 1 Axes>"
      ]
     },
     "metadata": {},
     "output_type": "display_data"
    },
    {
     "name": "stdout",
     "output_type": "stream",
     "text": [
      "size - Skewness: 1.4478815386834785, Kurtosis: 1.7317000657641097\n"
     ]
    }
   ],
   "source": [
    "# Select numeric features from the dataset\n",
    "numeric_features = df.select_dtypes(include=['float64', 'int64']).columns\n",
    "\n",
    "# Plot the distribution of each numeric feature\n",
    "for feature in numeric_features:\n",
    "    df[feature].hist(bins=30)\n",
    "    plt.title(f'Distribution of {feature}')\n",
    "    plt.xlabel(feature)\n",
    "    plt.ylabel('Frequency')\n",
    "    plt.show()\n",
    "\n",
    "    # Print skewness and kurtosis for each numeric feature\n",
    "    print(f\"{feature} - Skewness: {df[feature].skew()}, Kurtosis: {df[feature].kurt()}\")"
   ]
  }
 ],
 "metadata": {
  "colab": {
   "collapsed_sections": [],
   "name": "Descriptive Statistics I - EXERCISE.ipynb",
   "provenance": [
    {
     "file_id": "1x32VpSM-wQZTh6O6cbGKJ96sFPyTmEOh",
     "timestamp": 1574202441886
    },
    {
     "file_id": "1Vux1Jk_rdeFmgzTWSw1Qrc8DD5sdqr_-",
     "timestamp": 1568922234775
    },
    {
     "file_id": "1WMpsBAna7qYSPwn1tFKSEfkZjY3BZHuY",
     "timestamp": 1562525831239
    },
    {
     "file_id": "1n6NmJmUpxhIPn4ZCsbK2tiV6PZ6MDD00",
     "timestamp": 1560410483688
    },
    {
     "file_id": "1wlKS2ySxKKZ6msBXn-8S8qe-4rRoWSKI",
     "timestamp": 1560402395187
    },
    {
     "file_id": "1scRLpBtHS0jXC72opqLsj3wMHilVELnZ",
     "timestamp": 1560164436155
    },
    {
     "file_id": "1Gj8xFEghBwX8exDkdBWvNSzOUTYlNxI9",
     "timestamp": 1559546697443
    },
    {
     "file_id": "1TeHiJ5s48kWFy5BosIWhjK2MQyMkPHNo",
     "timestamp": 1559546187577
    },
    {
     "file_id": "1f_9CXFJzBvrAePaDr_WYQGHEBS5th53b",
     "timestamp": 1559541190636
    }
   ]
  },
  "kernelspec": {
   "display_name": "Python 3",
   "name": "python3"
  },
  "language_info": {
   "codemirror_mode": {
    "name": "ipython",
    "version": 3
   },
   "file_extension": ".py",
   "mimetype": "text/x-python",
   "name": "python",
   "nbconvert_exporter": "python",
   "pygments_lexer": "ipython3",
   "version": "3.11.9"
  }
 },
 "nbformat": 4,
 "nbformat_minor": 0
}
