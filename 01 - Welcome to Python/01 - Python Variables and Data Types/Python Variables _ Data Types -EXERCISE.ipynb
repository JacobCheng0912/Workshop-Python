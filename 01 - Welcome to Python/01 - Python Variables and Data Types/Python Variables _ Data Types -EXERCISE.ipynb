{
  "cells": [
    {
      "cell_type": "markdown",
      "metadata": {
        "id": "ZvNsvUNNlZbi"
      },
      "source": [
        "---\n",
        "#  Crash Course Python for Data Science - Intro to Python  \n",
        "---\n",
        "# 01 - Python Variables & Data Types\n",
        "---\n",
        "\n",
        "## STOP! BEFORE GOING ANY FURTHER...  \n",
        "\n",
        "Remember, this exercises are open book, open neighbour, open everything! Try to do them on your own before looking at the solution samples.\n"
      ]
    },
    {
      "cell_type": "markdown",
      "metadata": {
        "id": "o57NvhYkBjKH"
      },
      "source": [
        "## Part 1: Variables\n"
      ]
    },
    {
      "cell_type": "markdown",
      "metadata": {
        "id": "4haXpvn1QXW_"
      },
      "source": [
        "### 1.1 Create three numerical variables (ints and/or floats) and add them together. At least one of your variables must hold a negative value."
      ]
    },
    {
      "cell_type": "code",
      "execution_count": 3,
      "metadata": {
        "id": "Aqs3liWFcouG"
      },
      "outputs": [
        {
          "name": "stdout",
          "output_type": "stream",
          "text": [
            "25\n"
          ]
        }
      ],
      "source": [
        "a = 10\n",
        "b = -5\n",
        "c = 20\n",
        "result = a + b + c\n",
        "print(result) #print result \n"
      ]
    },
    {
      "cell_type": "markdown",
      "metadata": {
        "id": "QSk1zFf4Qbzk"
      },
      "source": [
        "### 1.2 Write a sentence in five parts, assign each part to a variable, then concatenate them all together. Account for spacing!"
      ]
    },
    {
      "cell_type": "code",
      "execution_count": 4,
      "metadata": {
        "id": "knGTdX_jflb4"
      },
      "outputs": [
        {
          "name": "stdout",
          "output_type": "stream",
          "text": [
            "Python is a powerful language.\n"
          ]
        }
      ],
      "source": [
        "part1 = \"Python\"\n",
        "part2 = \"is\"\n",
        "part3 = \"a\"\n",
        "part4 = \"powerful\"\n",
        "part5 = \"language.\"\n",
        "sentence = part1 + \" \" + part2 + \" \" + part3 + \" \" + part4 + \" \" + part5\n",
        "print(sentence)  # print result：Python is a powerful language.\n"
      ]
    },
    {
      "cell_type": "markdown",
      "metadata": {
        "id": "8EYDz3UtQflV"
      },
      "source": [
        "### 1.3 Calculate my body mass index. Here's the formula for BMI:  \n",
        "\n",
        ">$\\frac{Weight(kg)}{Height(m)^2} = BMI$  \n",
        "\n",
        "I am 1.60 meters tall and weighs 56 kg. Create a variable for this height, weight, and BMI by combining the first two.\n"
      ]
    },
    {
      "cell_type": "code",
      "execution_count": 5,
      "metadata": {
        "id": "3nxcXGoPg7Kd"
      },
      "outputs": [
        {
          "name": "stdout",
          "output_type": "stream",
          "text": [
            "Your BMI is: 21.874999999999996\n"
          ]
        }
      ],
      "source": [
        "height = 1.60  # metres\n",
        "weight = 56  # kilograms\n",
        "bmi = weight / (height ** 2)\n",
        "print(\"Your BMI is:\",bmi)  # print result：21.875\n"
      ]
    },
    {
      "cell_type": "markdown",
      "metadata": {
        "id": "SV0stA9BUSCn"
      },
      "source": [
        "### 1.4 Now calculate your own BMI.\n",
        "How tall are you and what is your weight? If you're not sure, make a rough guess and calculate your BMI by changing the values of the variables you created for me. It's easier than creating all new variables, right?"
      ]
    },
    {
      "cell_type": "code",
      "execution_count": 6,
      "metadata": {
        "id": "t6rH9r_Ohwq5"
      },
      "outputs": [
        {
          "name": "stdout",
          "output_type": "stream",
          "text": [
            "Your BMI is: 29.860551225775623\n"
          ]
        }
      ],
      "source": [
        "# Height and weight\n",
        "height = 1.83  # in meters\n",
        "weight = 100  # in kilograms\n",
        "\n",
        "# Calculate BMI\n",
        "bmi = weight / (height ** 2)\n",
        "\n",
        "# Print the result\n",
        "print(\"Your BMI is:\", bmi)\n"
      ]
    },
    {
      "cell_type": "markdown",
      "metadata": {
        "id": "LvfErOpESot3"
      },
      "source": [
        "## Part 2: Data Types"
      ]
    },
    {
      "cell_type": "markdown",
      "metadata": {
        "id": "u5SAr9vDSuCY"
      },
      "source": [
        "### 2.1 What is the data type of the following variables?"
      ]
    },
    {
      "cell_type": "code",
      "execution_count": 7,
      "metadata": {
        "id": "QWyELKj1Sssz"
      },
      "outputs": [],
      "source": [
        "a = -91\n",
        "b = 12.0222\n",
        "c = True\n",
        "d = \"Loosey goosey\""
      ]
    },
    {
      "cell_type": "code",
      "execution_count": 8,
      "metadata": {
        "id": "e3IT_1C3iKm3"
      },
      "outputs": [
        {
          "name": "stdout",
          "output_type": "stream",
          "text": [
            "<class 'int'>\n",
            "<class 'float'>\n",
            "<class 'bool'>\n",
            "<class 'str'>\n"
          ]
        }
      ],
      "source": [
        "a = -91  # Integer (int)\n",
        "b = 12.0222  # Floating-point number (float)\n",
        "c = True  # Boolean (bool)\n",
        "d = \"Loosey goosey\"  # String (str)\n",
        "\n",
        "# Print the data type of each variable\n",
        "print(type(a))  # <class 'int'>\n",
        "print(type(b))  # <class 'float'>\n",
        "print(type(c))  # <class 'bool'>\n",
        "print(type(d))  # <class 'str'>\n"
      ]
    },
    {
      "cell_type": "markdown",
      "metadata": {
        "id": "hBIomZKgS9Qw"
      },
      "source": [
        "### 2.2 How do strings behave differently than integers or floats?"
      ]
    },
    {
      "cell_type": "markdown",
      "metadata": {
        "id": "RT5d5gOoTFbV"
      },
      "source": [
        "*Write your answer below this line*: \n",
        "---\n",
        "A string is a collection of characters used to represent textual data, while integers and floats are numerical types that can perform arithmetic operations. For example:\n",
        "\n",
        "Strings can be concatenated using the + operator but cannot be directly used in mathematical calculations.\n",
        "Numerical types can be used for addition, subtraction, multiplication, division, and other arithmetic operations.\n"
      ]
    },
    {
      "cell_type": "markdown",
      "metadata": {
        "id": "tXH3HQGWTZ0-"
      },
      "source": [
        "### 2.3 Create one variable holding a string and another variable holding a float. Concatenate the two together. "
      ]
    },
    {
      "cell_type": "code",
      "execution_count": 9,
      "metadata": {
        "id": "ItnFPpdwi6H_"
      },
      "outputs": [
        {
          "name": "stdout",
          "output_type": "stream",
          "text": [
            "The number is: 3.14\n"
          ]
        }
      ],
      "source": [
        "text = \"The number is:\"  # String variable\n",
        "number = 3.14  # Floating-point number variable\n",
        "result = text + \" \" + str(number)  # Convert the number to a string and concatenate\n",
        "print(result)  # Output: The number is: 3.14\n"
      ]
    },
    {
      "cell_type": "markdown",
      "metadata": {
        "id": "qVG_ZZyfTjyB"
      },
      "source": [
        "### YOU DID IT! Congratulations. I hope you feel more confident with Python now. Practice makes the master. See you on the next exercise. - Grace\n",
        "\n"
      ]
    }
  ],
  "metadata": {
    "colab": {
      "collapsed_sections": [],
      "name": "Python Variables & Data Types -EXERCISE.ipynb",
      "provenance": []
    },
    "kernelspec": {
      "display_name": "Python 3",
      "name": "python3"
    },
    "language_info": {
      "codemirror_mode": {
        "name": "ipython",
        "version": 3
      },
      "file_extension": ".py",
      "mimetype": "text/x-python",
      "name": "python",
      "nbconvert_exporter": "python",
      "pygments_lexer": "ipython3",
      "version": "3.12.2"
    }
  },
  "nbformat": 4,
  "nbformat_minor": 0
}
