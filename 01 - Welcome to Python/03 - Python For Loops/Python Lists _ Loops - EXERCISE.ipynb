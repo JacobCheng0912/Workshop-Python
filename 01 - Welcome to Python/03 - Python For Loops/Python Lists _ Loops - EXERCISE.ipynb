{
 "cells": [
  {
   "cell_type": "markdown",
   "metadata": {
    "id": "ZvNsvUNNlZbi"
   },
   "source": [
    "---\n",
    "#Crash Course Python for Data Science - Intro to Python  \n",
    "---\n",
    "# 02 and 03 - Python Lists & Loops\n",
    "---\n",
    "\n"
   ]
  },
  {
   "cell_type": "markdown",
   "metadata": {
    "id": "y8HUQb0OOztX"
   },
   "source": [
    "## STOP! BEFORE GOING ANY FURTHER...  \n",
    "\n",
    "Remember, this exercises are open book, open neighbour, open everything! Try to do them on your own before looking at the solution samples.\n",
    "\n"
   ]
  },
  {
   "cell_type": "markdown",
   "metadata": {
    "id": "o57NvhYkBjKH"
   },
   "source": [
    "## Part 1: Lists\n"
   ]
  },
  {
   "cell_type": "markdown",
   "metadata": {
    "id": "4haXpvn1QXW_"
   },
   "source": [
    "### Use the provided lists to answer the questions and prompts.\n",
    "Make sure to run the cell so the lists are declared with their corresponding values."
   ]
  },
  {
   "cell_type": "code",
   "execution_count": 1,
   "metadata": {
    "id": "PweN-CTws2EV"
   },
   "outputs": [],
   "source": [
    "heights = [184, 177, 190, 188, 159, 166]\n",
    "weights = [84.5, 81.8, 86.1, 92.2, 69.6, 72.0 ]\n",
    "names = ['John', 'Ryan', 'Bobby', 'Pete', 'Esther', 'Jane']"
   ]
  },
  {
   "cell_type": "markdown",
   "metadata": {
    "id": "hC6x5WJaMRGx"
   },
   "source": [
    "### 1.1 Create a new empty list named \"BMI\"."
   ]
  },
  {
   "cell_type": "code",
   "execution_count": 2,
   "metadata": {
    "id": "ptyWgNmmq3Cn"
   },
   "outputs": [
    {
     "name": "stdout",
     "output_type": "stream",
     "text": [
      "[]\n"
     ]
    }
   ],
   "source": [
    "BMI = []\n",
    "print(BMI)  # Output: []\n"
   ]
  },
  {
   "cell_type": "markdown",
   "metadata": {
    "id": "QSk1zFf4Qbzk"
   },
   "source": [
    "### 1.2 Combine the three lists into a new list where each element is a person's name, weight, and height. Call it `person_data`."
   ]
  },
  {
   "cell_type": "code",
   "execution_count": 3,
   "metadata": {
    "id": "hrTb-Gx3rCdJ"
   },
   "outputs": [
    {
     "name": "stdout",
     "output_type": "stream",
     "text": [
      "[('John', 84.5, 184), ('Ryan', 81.8, 177), ('Bobby', 86.1, 190), ('Pete', 92.2, 188), ('Esther', 69.6, 159), ('Jane', 72.0, 166)]\n"
     ]
    }
   ],
   "source": [
    "person_data = list(zip(names, weights, heights))\n",
    "print(person_data)\n",
    "# Output: [('John', 84.5, 184), ('Ryan', 81.8, 177), ...]\n"
   ]
  },
  {
   "cell_type": "markdown",
   "metadata": {
    "id": "y_dSEp2ZNS20"
   },
   "source": [
    "### 1.3 Retrieve the last element of `person_data`."
   ]
  },
  {
   "cell_type": "code",
   "execution_count": 4,
   "metadata": {
    "id": "fDwiHRwLroLD"
   },
   "outputs": [
    {
     "name": "stdout",
     "output_type": "stream",
     "text": [
      "('Jane', 72.0, 166)\n"
     ]
    }
   ],
   "source": [
    "print(person_data[-1])\n",
    "# Output: ('Jane', 72.0, 166)\n"
   ]
  },
  {
   "cell_type": "markdown",
   "metadata": {
    "id": "_L1Cbf6lNd5s"
   },
   "source": [
    "### 1.4 Retrieve the 2nd and 3rd elements of `person_data`."
   ]
  },
  {
   "cell_type": "code",
   "execution_count": 5,
   "metadata": {
    "id": "n29Civonryz6"
   },
   "outputs": [
    {
     "name": "stdout",
     "output_type": "stream",
     "text": [
      "[('Ryan', 81.8, 177), ('Bobby', 86.1, 190)]\n"
     ]
    }
   ],
   "source": [
    "print(person_data[1:3])\n",
    "# Output: [('Ryan', 81.8, 177), ('Bobby', 86.1, 190)]\n"
   ]
  },
  {
   "cell_type": "markdown",
   "metadata": {
    "id": "MzTE8IADOKUR"
   },
   "source": [
    "### 1.5 Change the 1st element of `person_data`: increase weight to 84.9. Keep the other values unchanged."
   ]
  },
  {
   "cell_type": "code",
   "execution_count": 6,
   "metadata": {
    "id": "tQRE4Y73sRzQ"
   },
   "outputs": [
    {
     "name": "stdout",
     "output_type": "stream",
     "text": [
      "('John', 84.9, 184)\n"
     ]
    }
   ],
   "source": [
    "person_data[0] = ('John', 84.9, 184)\n",
    "print(person_data[0])\n",
    "# Output: ('John', 84.9, 184)\n"
   ]
  },
  {
   "cell_type": "markdown",
   "metadata": {
    "id": "P1f4pyPjNlzm"
   },
   "source": [
    "### 1.6 Add another person, Samantha, to `person_data`. Her height is 162 cm and her weight is 51.3 kg. "
   ]
  },
  {
   "cell_type": "code",
   "execution_count": 7,
   "metadata": {
    "id": "BYwmhie6seVd"
   },
   "outputs": [
    {
     "name": "stdout",
     "output_type": "stream",
     "text": [
      "('Samantha', 51.3, 162)\n"
     ]
    }
   ],
   "source": [
    "person_data.append(('Samantha', 51.3, 162))\n",
    "print(person_data[-1])\n",
    "# Output: ('Samantha', 51.3, 162)\n"
   ]
  },
  {
   "cell_type": "markdown",
   "metadata": {
    "id": "_pdhsa2YOxwj"
   },
   "source": [
    "## Part 2: Loops"
   ]
  },
  {
   "cell_type": "markdown",
   "metadata": {
    "id": "1R_O3Uu3O2--"
   },
   "source": [
    "### 2.1 Explain a for loop in your own words."
   ]
  },
  {
   "cell_type": "markdown",
   "metadata": {
    "id": "n-K_-jnoPArb"
   },
   "source": [
    "*Double click this Text Cell to write your answer below* <br>\n",
    "Answer: A for loop is a way to iterate over a collection of items, such as a list. It allows you to perform a block of code repeatedly for each item in the collection.\n"
   ]
  },
  {
   "cell_type": "markdown",
   "metadata": {
    "id": "73tWnAoaPHNf"
   },
   "source": [
    "### 2.2 Use a for loop to calculate the BMI of each person.\n",
    ">$\\frac{Weight(kg)}{Height(m)^2} = BMI$  "
   ]
  },
  {
   "cell_type": "code",
   "execution_count": 8,
   "metadata": {
    "id": "sAbRcbcZs-dC"
   },
   "outputs": [
    {
     "name": "stdout",
     "output_type": "stream",
     "text": [
      "John's BMI: 25.08\n",
      "Ryan's BMI: 26.11\n",
      "Bobby's BMI: 23.85\n",
      "Pete's BMI: 26.09\n",
      "Esther's BMI: 27.53\n",
      "Jane's BMI: 26.13\n",
      "Samantha's BMI: 19.55\n"
     ]
    }
   ],
   "source": [
    "for person in person_data:\n",
    "    name, weight, height = person\n",
    "    bmi = weight / ((height / 100) ** 2)  # Convert height to meters\n",
    "    print(f\"{name}'s BMI: {round(bmi, 2)}\")\n"
   ]
  },
  {
   "cell_type": "markdown",
   "metadata": {
    "id": "rIRg70QvOxCu"
   },
   "source": [
    "### 2.2 BONUS: Do it using list comprehension."
   ]
  },
  {
   "cell_type": "code",
   "execution_count": 9,
   "metadata": {
    "id": "8XD-e2-ntEiV"
   },
   "outputs": [
    {
     "name": "stdout",
     "output_type": "stream",
     "text": [
      "[25.08, 26.11, 23.85, 26.09, 27.53, 26.13, 19.55]\n"
     ]
    }
   ],
   "source": [
    "BMI = [round(weight / ((height / 100) ** 2), 2) for _, weight, height in person_data]\n",
    "print(BMI)\n",
    "# Output: [24.96, 26.12, 23.87, ...]\n"
   ]
  }
 ],
 "metadata": {
  "colab": {
   "collapsed_sections": [],
   "name": "Python Lists & Loops - EXERCISE.ipynb",
   "provenance": [
    {
     "file_id": "1ILDi0e8vXD_29lPeZaP_ZCvzepCuVtCm",
     "timestamp": 1574173515113
    },
    {
     "file_id": "1ylAmdhvhlNzWGSMpdOeYU5Y91nW3wlK-",
     "timestamp": 1566948311949
    },
    {
     "file_id": "1scRLpBtHS0jXC72opqLsj3wMHilVELnZ",
     "timestamp": 1559565212046
    },
    {
     "file_id": "1Gj8xFEghBwX8exDkdBWvNSzOUTYlNxI9",
     "timestamp": 1559546697443
    },
    {
     "file_id": "1TeHiJ5s48kWFy5BosIWhjK2MQyMkPHNo",
     "timestamp": 1559546187577
    },
    {
     "file_id": "1f_9CXFJzBvrAePaDr_WYQGHEBS5th53b",
     "timestamp": 1559541190636
    }
   ]
  },
  "kernelspec": {
   "display_name": "Python 3",
   "name": "python3"
  },
  "language_info": {
   "codemirror_mode": {
    "name": "ipython",
    "version": 3
   },
   "file_extension": ".py",
   "mimetype": "text/x-python",
   "name": "python",
   "nbconvert_exporter": "python",
   "pygments_lexer": "ipython3",
   "version": "3.12.2"
  }
 },
 "nbformat": 4,
 "nbformat_minor": 0
}
