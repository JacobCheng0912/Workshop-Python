{
 "cells": [
  {
   "cell_type": "markdown",
   "metadata": {
    "colab_type": "text",
    "id": "ZvNsvUNNlZbi"
   },
   "source": [
    "---\n",
    "# Crash Course Python for Data Science - Intro to Pandas\n",
    "---\n",
    "# 02 - Indexing & Subsetting DataFrames\n",
    "---\n",
    "\n"
   ]
  },
  {
   "cell_type": "markdown",
   "metadata": {
    "colab_type": "text",
    "id": "y8HUQb0OOztX"
   },
   "source": [
    "## STOP! BEFORE GOING ANY FURTHER...  \n",
    "\n",
    "Remember, this exercises are open book, open neighbour, open everything! Try to do them on your own before looking at the solution samples.\n",
    "\n"
   ]
  },
  {
   "cell_type": "markdown",
   "metadata": {
    "colab_type": "text",
    "id": "xMq6Of2Gt24o"
   },
   "source": [
    "### Import pandas"
   ]
  },
  {
   "cell_type": "code",
   "execution_count": 1,
   "metadata": {
    "colab": {},
    "colab_type": "code",
    "id": "h3r0IvHVuGJb"
   },
   "outputs": [
    {
     "name": "stdout",
     "output_type": "stream",
     "text": [
      "pandas imported!\n"
     ]
    }
   ],
   "source": [
    "import pandas as pd\n",
    "print('pandas imported!')"
   ]
  },
  {
   "cell_type": "markdown",
   "metadata": {
    "colab_type": "text",
    "id": "DvYie7qokbDH"
   },
   "source": [
    "### Read in your data\n",
    "Your dataset can be found [here.](https://raw.githubusercontent.com/axrd/datasets/master/tipdata.csv)\n",
    "Import it and return the first 5 rows:"
   ]
  },
  {
   "cell_type": "code",
   "execution_count": 2,
   "metadata": {
    "colab": {},
    "colab_type": "code",
    "id": "BT_9npagH2Fb"
   },
   "outputs": [
    {
     "data": {
      "text/html": [
       "<div>\n",
       "<style scoped>\n",
       "    .dataframe tbody tr th:only-of-type {\n",
       "        vertical-align: middle;\n",
       "    }\n",
       "\n",
       "    .dataframe tbody tr th {\n",
       "        vertical-align: top;\n",
       "    }\n",
       "\n",
       "    .dataframe thead th {\n",
       "        text-align: right;\n",
       "    }\n",
       "</style>\n",
       "<table border=\"1\" class=\"dataframe\">\n",
       "  <thead>\n",
       "    <tr style=\"text-align: right;\">\n",
       "      <th></th>\n",
       "      <th>Unnamed: 0</th>\n",
       "      <th>total_bill</th>\n",
       "      <th>tip</th>\n",
       "      <th>sex</th>\n",
       "      <th>smoker</th>\n",
       "      <th>day</th>\n",
       "      <th>time</th>\n",
       "      <th>size</th>\n",
       "    </tr>\n",
       "  </thead>\n",
       "  <tbody>\n",
       "    <tr>\n",
       "      <th>0</th>\n",
       "      <td>0</td>\n",
       "      <td>16.99</td>\n",
       "      <td>1.01</td>\n",
       "      <td>Female</td>\n",
       "      <td>No</td>\n",
       "      <td>Sun</td>\n",
       "      <td>Dinner</td>\n",
       "      <td>2</td>\n",
       "    </tr>\n",
       "    <tr>\n",
       "      <th>1</th>\n",
       "      <td>1</td>\n",
       "      <td>10.34</td>\n",
       "      <td>1.66</td>\n",
       "      <td>Male</td>\n",
       "      <td>No</td>\n",
       "      <td>Sun</td>\n",
       "      <td>Dinner</td>\n",
       "      <td>3</td>\n",
       "    </tr>\n",
       "    <tr>\n",
       "      <th>2</th>\n",
       "      <td>2</td>\n",
       "      <td>21.01</td>\n",
       "      <td>3.50</td>\n",
       "      <td>Male</td>\n",
       "      <td>No</td>\n",
       "      <td>Sun</td>\n",
       "      <td>Dinner</td>\n",
       "      <td>3</td>\n",
       "    </tr>\n",
       "    <tr>\n",
       "      <th>3</th>\n",
       "      <td>3</td>\n",
       "      <td>23.68</td>\n",
       "      <td>3.31</td>\n",
       "      <td>Male</td>\n",
       "      <td>No</td>\n",
       "      <td>Sun</td>\n",
       "      <td>Dinner</td>\n",
       "      <td>2</td>\n",
       "    </tr>\n",
       "    <tr>\n",
       "      <th>4</th>\n",
       "      <td>4</td>\n",
       "      <td>24.59</td>\n",
       "      <td>3.61</td>\n",
       "      <td>Female</td>\n",
       "      <td>No</td>\n",
       "      <td>Sun</td>\n",
       "      <td>Dinner</td>\n",
       "      <td>4</td>\n",
       "    </tr>\n",
       "  </tbody>\n",
       "</table>\n",
       "</div>"
      ],
      "text/plain": [
       "   Unnamed: 0  total_bill   tip     sex smoker  day    time  size\n",
       "0           0       16.99  1.01  Female     No  Sun  Dinner     2\n",
       "1           1       10.34  1.66    Male     No  Sun  Dinner     3\n",
       "2           2       21.01  3.50    Male     No  Sun  Dinner     3\n",
       "3           3       23.68  3.31    Male     No  Sun  Dinner     2\n",
       "4           4       24.59  3.61  Female     No  Sun  Dinner     4"
      ]
     },
     "execution_count": 2,
     "metadata": {},
     "output_type": "execute_result"
    }
   ],
   "source": [
    "df = pd.read_csv(\"https://raw.githubusercontent.com/axrd/datasets/master/tipdata.csv\")\n",
    "df.head()"
   ]
  },
  {
   "cell_type": "markdown",
   "metadata": {
    "colab_type": "text",
    "id": "fMyM71IQYA-K"
   },
   "source": [
    "### What is the shape of the DataFrame?"
   ]
  },
  {
   "cell_type": "code",
   "execution_count": 0,
   "metadata": {
    "colab": {},
    "colab_type": "code",
    "id": "0ock8t9NH7oE"
   },
   "outputs": [],
   "source": [
    "df.shape"
   ]
  },
  {
   "cell_type": "markdown",
   "metadata": {
    "colab_type": "text",
    "id": "CYy4Zp5pk7tS"
   },
   "source": [
    "### Get specific values"
   ]
  },
  {
   "cell_type": "code",
   "execution_count": 0,
   "metadata": {
    "colab": {},
    "colab_type": "code",
    "id": "aujP8IEFICVp"
   },
   "outputs": [],
   "source": [
    "# What is the gender of the server in the 41st entry?\n",
    "\n",
    "df.iloc[40][\"sex\"]"
   ]
  },
  {
   "cell_type": "code",
   "execution_count": 0,
   "metadata": {
    "colab": {},
    "colab_type": "code",
    "id": "bXBPnpWhIR8a"
   },
   "outputs": [],
   "source": [
    "# Was the 22nd entry seated in a smoking section??\n",
    "\n",
    "df.iloc[21][\"smoker\"]"
   ]
  },
  {
   "cell_type": "markdown",
   "metadata": {
    "colab_type": "text",
    "id": "125CV0jpQ5vT"
   },
   "source": [
    "### Get a range of values"
   ]
  },
  {
   "cell_type": "code",
   "execution_count": 0,
   "metadata": {
    "colab": {},
    "colab_type": "code",
    "id": "4vlXJCvJIilf"
   },
   "outputs": [],
   "source": [
    "# Return the last 20 entries\n",
    "\n",
    "df.tail(20)"
   ]
  },
  {
   "cell_type": "code",
   "execution_count": 0,
   "metadata": {
    "colab": {},
    "colab_type": "code",
    "id": "D4T11KeZIsJf"
   },
   "outputs": [],
   "source": [
    "# Return entries 25 through 50\n",
    "\n",
    "df.iloc[24:50]"
   ]
  },
  {
   "cell_type": "markdown",
   "metadata": {
    "colab_type": "text",
    "id": "Y7arWL1sblgY"
   },
   "source": [
    "### Filtering and subsetting:"
   ]
  },
  {
   "cell_type": "code",
   "execution_count": 0,
   "metadata": {
    "colab": {},
    "colab_type": "code",
    "id": "oICDL6Y0IzZi"
   },
   "outputs": [],
   "source": [
    "# Return all the entres where the size is greater than 2.\n",
    "\n",
    "df[df[\"size\"] > 2]"
   ]
  },
  {
   "cell_type": "code",
   "execution_count": 0,
   "metadata": {
    "colab": {},
    "colab_type": "code",
    "id": "nbMJcbguI8NR"
   },
   "outputs": [],
   "source": [
    "# Create a Dataframe consisting only of data for Fridays. \n",
    "# Hint: You should have 19 values.\n",
    "\n",
    "\n",
    "friday_df = df[df[\"day\"] == \"Fri\"]\n",
    "friday_df"
   ]
  },
  {
   "cell_type": "markdown",
   "metadata": {
    "colab_type": "text",
    "id": "D3B3Z8GvcY4Q"
   },
   "source": [
    "### Well done! Make sure your save your work. See you on the next notebook. - G\n",
    "\n",
    "\n",
    "\n",
    "---\n",
    "\n"
   ]
  }
 ],
 "metadata": {
  "colab": {
   "collapsed_sections": [],
   "name": "Indexing & Subsetting DFs - EXERCISE.ipynb",
   "provenance": [
    {
     "file_id": "1GPclY8dkmv5hK4wMlMJx0nB1-z7bpCEx",
     "timestamp": 1574190397134
    },
    {
     "file_id": "1U_fQboElbIRqyhmT2k-IzngAgJZjouaq",
     "timestamp": 1567181368572
    },
    {
     "file_id": "1XCXHPOyJJYCisFkNQiMfN7PwoWpiavCW",
     "timestamp": 1561008776817
    },
    {
     "file_id": "1WMpsBAna7qYSPwn1tFKSEfkZjY3BZHuY",
     "timestamp": 1560422997408
    },
    {
     "file_id": "1n6NmJmUpxhIPn4ZCsbK2tiV6PZ6MDD00",
     "timestamp": 1560410483688
    },
    {
     "file_id": "1wlKS2ySxKKZ6msBXn-8S8qe-4rRoWSKI",
     "timestamp": 1560402395187
    },
    {
     "file_id": "1scRLpBtHS0jXC72opqLsj3wMHilVELnZ",
     "timestamp": 1560164436155
    },
    {
     "file_id": "1Gj8xFEghBwX8exDkdBWvNSzOUTYlNxI9",
     "timestamp": 1559546697443
    },
    {
     "file_id": "1TeHiJ5s48kWFy5BosIWhjK2MQyMkPHNo",
     "timestamp": 1559546187577
    },
    {
     "file_id": "1f_9CXFJzBvrAePaDr_WYQGHEBS5th53b",
     "timestamp": 1559541190636
    }
   ]
  },
  "kernelspec": {
   "display_name": "Python 3",
   "name": "python3"
  },
  "language_info": {
   "codemirror_mode": {
    "name": "ipython",
    "version": 3
   },
   "file_extension": ".py",
   "mimetype": "text/x-python",
   "name": "python",
   "nbconvert_exporter": "python",
   "pygments_lexer": "ipython3",
   "version": "3.11.9"
  }
 },
 "nbformat": 4,
 "nbformat_minor": 0
}
